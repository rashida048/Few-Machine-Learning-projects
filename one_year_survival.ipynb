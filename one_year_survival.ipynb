{
 "cells": [
  {
   "cell_type": "code",
   "execution_count": 1,
   "metadata": {},
   "outputs": [],
   "source": [
    "import numpy as np\n",
    "import pandas as pd"
   ]
  },
  {
   "cell_type": "code",
   "execution_count": 2,
   "metadata": {},
   "outputs": [],
   "source": [
    "cl = pd.read_csv(\"clinical.csv\")"
   ]
  },
  {
   "cell_type": "code",
   "execution_count": 117,
   "metadata": {},
   "outputs": [
    {
     "data": {
      "text/plain": [
       "190"
      ]
     },
     "execution_count": 117,
     "metadata": {},
     "output_type": "execute_result"
    }
   ],
   "source": [
    "len(cl)"
   ]
  },
  {
   "cell_type": "code",
   "execution_count": 3,
   "metadata": {
    "scrolled": true
   },
   "outputs": [
    {
     "data": {
      "text/plain": [
       "ID                    0\n",
       "Outcome               0\n",
       "Survival.Months       0\n",
       "Age                   0\n",
       "Grade                 0\n",
       "Num.Primaries         0\n",
       "T                     0\n",
       "N                    65\n",
       "M                    96\n",
       "Radiation             0\n",
       "Stage                 0\n",
       "Primary.Site          0\n",
       "Histology             0\n",
       "Tumor.Size           92\n",
       "Num.Mutated.Genes     0\n",
       "Num.Mutations         0\n",
       "dtype: int64"
      ]
     },
     "execution_count": 3,
     "metadata": {},
     "output_type": "execute_result"
    }
   ],
   "source": [
    "cl.isnull().sum()"
   ]
  },
  {
   "cell_type": "code",
   "execution_count": 6,
   "metadata": {},
   "outputs": [],
   "source": [
    "cl['N'].fillna(cl.groupby('Outcome')['N'].transform('median'), inplace = True)"
   ]
  },
  {
   "cell_type": "code",
   "execution_count": 7,
   "metadata": {},
   "outputs": [],
   "source": [
    "cl['M'].fillna(cl.groupby('Outcome')['M'].transform('median'), inplace = True)"
   ]
  },
  {
   "cell_type": "code",
   "execution_count": 8,
   "metadata": {},
   "outputs": [],
   "source": [
    "cl['Tumor.Size'].fillna(cl.groupby('Outcome')['Tumor.Size'].transform('median'), inplace = True)"
   ]
  },
  {
   "cell_type": "code",
   "execution_count": 9,
   "metadata": {},
   "outputs": [],
   "source": [
    "import seaborn as sns\n",
    "import matplotlib.pyplot as plt"
   ]
  },
  {
   "cell_type": "code",
   "execution_count": 12,
   "metadata": {},
   "outputs": [
    {
     "data": {
      "text/html": [
       "<div>\n",
       "<style scoped>\n",
       "    .dataframe tbody tr th:only-of-type {\n",
       "        vertical-align: middle;\n",
       "    }\n",
       "\n",
       "    .dataframe tbody tr th {\n",
       "        vertical-align: top;\n",
       "    }\n",
       "\n",
       "    .dataframe thead th {\n",
       "        text-align: right;\n",
       "    }\n",
       "</style>\n",
       "<table border=\"1\" class=\"dataframe\">\n",
       "  <thead>\n",
       "    <tr style=\"text-align: right;\">\n",
       "      <th></th>\n",
       "      <th>ID</th>\n",
       "      <th>Outcome</th>\n",
       "      <th>Survival.Months</th>\n",
       "      <th>Age</th>\n",
       "      <th>Grade</th>\n",
       "      <th>Num.Primaries</th>\n",
       "      <th>T</th>\n",
       "      <th>N</th>\n",
       "      <th>M</th>\n",
       "      <th>Radiation</th>\n",
       "      <th>Stage</th>\n",
       "      <th>Primary.Site</th>\n",
       "      <th>Histology</th>\n",
       "      <th>Tumor.Size</th>\n",
       "      <th>Num.Mutated.Genes</th>\n",
       "      <th>Num.Mutations</th>\n",
       "    </tr>\n",
       "  </thead>\n",
       "  <tbody>\n",
       "    <tr>\n",
       "      <th>0</th>\n",
       "      <td>1</td>\n",
       "      <td>Alive</td>\n",
       "      <td>9.0</td>\n",
       "      <td>67</td>\n",
       "      <td>4</td>\n",
       "      <td>0</td>\n",
       "      <td>UNK</td>\n",
       "      <td>2.0</td>\n",
       "      <td>0.0</td>\n",
       "      <td>0</td>\n",
       "      <td>IV</td>\n",
       "      <td>Left Lower Lobe</td>\n",
       "      <td>Squamous cell carcinoma</td>\n",
       "      <td>1.4</td>\n",
       "      <td>8</td>\n",
       "      <td>8</td>\n",
       "    </tr>\n",
       "    <tr>\n",
       "      <th>1</th>\n",
       "      <td>2</td>\n",
       "      <td>Dead</td>\n",
       "      <td>19.0</td>\n",
       "      <td>73</td>\n",
       "      <td>2</td>\n",
       "      <td>0</td>\n",
       "      <td>UNK</td>\n",
       "      <td>2.0</td>\n",
       "      <td>0.0</td>\n",
       "      <td>5</td>\n",
       "      <td>IV</td>\n",
       "      <td>Right Upper Lobe</td>\n",
       "      <td>Adenocarcinoma</td>\n",
       "      <td>4.0</td>\n",
       "      <td>2</td>\n",
       "      <td>2</td>\n",
       "    </tr>\n",
       "    <tr>\n",
       "      <th>2</th>\n",
       "      <td>3</td>\n",
       "      <td>Dead</td>\n",
       "      <td>13.0</td>\n",
       "      <td>72</td>\n",
       "      <td>3</td>\n",
       "      <td>0</td>\n",
       "      <td>2</td>\n",
       "      <td>2.0</td>\n",
       "      <td>0.0</td>\n",
       "      <td>0</td>\n",
       "      <td>IIIA</td>\n",
       "      <td>Right Upper Lobe</td>\n",
       "      <td>Adenocarcinoma</td>\n",
       "      <td>1.5</td>\n",
       "      <td>1</td>\n",
       "      <td>1</td>\n",
       "    </tr>\n",
       "    <tr>\n",
       "      <th>3</th>\n",
       "      <td>4</td>\n",
       "      <td>Dead</td>\n",
       "      <td>15.0</td>\n",
       "      <td>69</td>\n",
       "      <td>9</td>\n",
       "      <td>1</td>\n",
       "      <td>1a</td>\n",
       "      <td>0.0</td>\n",
       "      <td>1.0</td>\n",
       "      <td>0</td>\n",
       "      <td>IA</td>\n",
       "      <td>Right Upper Lobe</td>\n",
       "      <td>Adenocarcinoma</td>\n",
       "      <td>4.0</td>\n",
       "      <td>4</td>\n",
       "      <td>4</td>\n",
       "    </tr>\n",
       "    <tr>\n",
       "      <th>4</th>\n",
       "      <td>5</td>\n",
       "      <td>Dead</td>\n",
       "      <td>10.0</td>\n",
       "      <td>76</td>\n",
       "      <td>9</td>\n",
       "      <td>0</td>\n",
       "      <td>UNK</td>\n",
       "      <td>2.0</td>\n",
       "      <td>0.0</td>\n",
       "      <td>0</td>\n",
       "      <td>IIIA</td>\n",
       "      <td>Left Hilar</td>\n",
       "      <td>Large-cell carcinoma</td>\n",
       "      <td>4.0</td>\n",
       "      <td>3</td>\n",
       "      <td>3</td>\n",
       "    </tr>\n",
       "  </tbody>\n",
       "</table>\n",
       "</div>"
      ],
      "text/plain": [
       "   ID Outcome  Survival.Months  Age  Grade  Num.Primaries    T    N    M  \\\n",
       "0   1   Alive              9.0   67      4              0  UNK  2.0  0.0   \n",
       "1   2    Dead             19.0   73      2              0  UNK  2.0  0.0   \n",
       "2   3    Dead             13.0   72      3              0    2  2.0  0.0   \n",
       "3   4    Dead             15.0   69      9              1   1a  0.0  1.0   \n",
       "4   5    Dead             10.0   76      9              0  UNK  2.0  0.0   \n",
       "\n",
       "   Radiation Stage      Primary.Site                Histology  Tumor.Size  \\\n",
       "0          0    IV   Left Lower Lobe  Squamous cell carcinoma         1.4   \n",
       "1          5    IV  Right Upper Lobe           Adenocarcinoma         4.0   \n",
       "2          0  IIIA  Right Upper Lobe           Adenocarcinoma         1.5   \n",
       "3          0    IA  Right Upper Lobe           Adenocarcinoma         4.0   \n",
       "4          0  IIIA        Left Hilar     Large-cell carcinoma         4.0   \n",
       "\n",
       "   Num.Mutated.Genes  Num.Mutations  \n",
       "0                  8              8  \n",
       "1                  2              2  \n",
       "2                  1              1  \n",
       "3                  4              4  \n",
       "4                  3              3  "
      ]
     },
     "execution_count": 12,
     "metadata": {},
     "output_type": "execute_result"
    }
   ],
   "source": [
    "cl.head()"
   ]
  },
  {
   "cell_type": "code",
   "execution_count": 15,
   "metadata": {},
   "outputs": [
    {
     "data": {
      "image/png": "[encoded data removed]",
      "text/plain": [
       "<Figure size 720x576 with 2 Axes>"
      ]
     },
     "metadata": {},
     "output_type": "display_data"
    }
   ],
   "source": [
    "plt.figure(figsize = (10, 8))\n",
    "sns.heatmap(cl.corr(), annot = True)\n",
    "plt.show()"
   ]
  },
  {
   "cell_type": "code",
   "execution_count": 17,
   "metadata": {},
   "outputs": [
    {
     "data": {
      "text/plain": [
       "Index(['ID', 'Outcome', 'Survival.Months', 'Age', 'Grade', 'Num.Primaries',\n",
       "       'T', 'N', 'M', 'Radiation', 'Stage', 'Primary.Site', 'Histology',\n",
       "       'Tumor.Size', 'Num.Mutated.Genes', 'Num.Mutations'],\n",
       "      dtype='object')"
      ]
     },
     "execution_count": 17,
     "metadata": {},
     "output_type": "execute_result"
    }
   ],
   "source": [
    "cl.columns"
   ]
  },
  {
   "cell_type": "code",
   "execution_count": null,
   "metadata": {},
   "outputs": [],
   "source": [
    "plot_cl = cl[[]]"
   ]
  },
  {
   "cell_type": "code",
   "execution_count": 20,
   "metadata": {},
   "outputs": [
    {
     "data": {
      "text/plain": [
       "ID                   190\n",
       "Outcome                2\n",
       "Survival.Months       28\n",
       "Age                   20\n",
       "Grade                  4\n",
       "Num.Primaries          2\n",
       "T                      9\n",
       "N                      4\n",
       "M                      2\n",
       "Radiation              2\n",
       "Stage                  9\n",
       "Primary.Site           9\n",
       "Histology              3\n",
       "Tumor.Size            19\n",
       "Num.Mutated.Genes      9\n",
       "Num.Mutations          9\n",
       "dtype: int64"
      ]
     },
     "execution_count": 20,
     "metadata": {},
     "output_type": "execute_result"
    }
   ],
   "source": [
    "cl.nunique()"
   ]
  },
  {
   "cell_type": "code",
   "execution_count": 132,
   "metadata": {},
   "outputs": [
    {
     "name": "stderr",
     "output_type": "stream",
     "text": [
      "C:\\Users\\rashi\\anaconda3\\lib\\site-packages\\seaborn\\_decorators.py:36: FutureWarning: Pass the following variables as keyword args: x, y. From version 0.12, the only valid positional argument will be `data`, and passing other arguments without an explicit keyword will result in an error or misinterpretation.\n",
      "  warnings.warn(\n"
     ]
    },
    {
     "data": {
      "image/png": "[encoded data removed]",
      "text/plain": [
       "<Figure size 504x432 with 1 Axes>"
      ]
     },
     "metadata": {},
     "output_type": "display_data"
    }
   ],
   "source": [
    "plt.figure(figsize=(7, 6))\n",
    "sns.scatterplot(\"Tumor.Size\", \"Survival.Months\", hue = 'Outcome', size = \"Grade\",\n",
    "                sizes = (20, 200),\n",
    "                alpha = 0.5,\n",
    "                data = cl)\n",
    "plt.legend(bbox_to_anchor = (1.3, 1), borderaxespad=0)\n",
    "plt.xlabel(\"Tumor Size\")\n",
    "plt.ylabel(\"Survival Months\")\n",
    "plt.title(\"Tumor Size vs Survival Minths for Outcome and Grade\")\n",
    "plt.show()"
   ]
  },
  {
   "cell_type": "code",
   "execution_count": 141,
   "metadata": {},
   "outputs": [
    {
     "data": {
      "image/png": "[encoded data removed]",
      "text/plain": [
       "<Figure size 419.875x360 with 1 Axes>"
      ]
     },
     "metadata": {},
     "output_type": "display_data"
    }
   ],
   "source": [
    "sns.displot(x = \"Age\", hue= \"Outcome\", data = cl)\n",
    "plt.title(\"Distribution of Age per Outcome\", fontsize = 14)\n",
    "plt.show()"
   ]
  },
  {
   "cell_type": "code",
   "execution_count": 142,
   "metadata": {},
   "outputs": [
    {
     "data": {
      "image/png": "[encoded data removed]",
      "text/plain": [
       "<Figure size 576x432 with 1 Axes>"
      ]
     },
     "metadata": {},
     "output_type": "display_data"
    }
   ],
   "source": [
    "plt.figure(figsize=(8, 6))\n",
    "sns.barplot(x='Outcome', y= 'Age', hue='Radiation', \n",
    "            palette = 'GnBu',\n",
    "            data=cl)\n",
    "plt.xlabel(\"Outcome\")\n",
    "plt.ylabel(\"Age\")\n",
    "plt.title(\"Outcome vs Age Segregated by Radiation\", fontsize = 16)\n",
    "plt.show()"
   ]
  },
  {
   "cell_type": "code",
   "execution_count": 41,
   "metadata": {},
   "outputs": [
    {
     "data": {
      "image/png": "[encoded data removed]",
      "text/plain": [
       "<Figure size 576x432 with 1 Axes>"
      ]
     },
     "metadata": {},
     "output_type": "display_data"
    }
   ],
   "source": [
    "plt.figure(figsize=(8, 6))\n",
    "sns.barplot(x='T', y= 'Tumor.Size', hue='Outcome', \n",
    "            palette = 'GnBu',\n",
    "            data=cl, ci='sd',\n",
    "           capsize=0.05,)\n",
    "plt.xlabel(\"Tumor.Stage\")\n",
    "plt.ylabel(\"Tumor.Size\")\n",
    "plt.title(\"Tumor Stage vs Tumor Size for Outcomes\", fontsize = 16)\n",
    "plt.show()"
   ]
  },
  {
   "cell_type": "code",
   "execution_count": 42,
   "metadata": {},
   "outputs": [
    {
     "data": {
      "text/plain": [
       "Index(['ID', 'Outcome', 'Survival.Months', 'Age', 'Grade', 'Num.Primaries',\n",
       "       'T', 'N', 'M', 'Radiation', 'Stage', 'Primary.Site', 'Histology',\n",
       "       'Tumor.Size', 'Num.Mutated.Genes', 'Num.Mutations'],\n",
       "      dtype='object')"
      ]
     },
     "execution_count": 42,
     "metadata": {},
     "output_type": "execute_result"
    }
   ],
   "source": [
    "cl.columns"
   ]
  },
  {
   "cell_type": "code",
   "execution_count": 47,
   "metadata": {},
   "outputs": [
    {
     "data": {
      "text/plain": [
       "<Figure size 576x432 with 0 Axes>"
      ]
     },
     "metadata": {},
     "output_type": "display_data"
    },
    {
     "data": {
      "image/png": "[encoded data removed]",
      "text/plain": [
       "<Figure size 419.875x360 with 1 Axes>"
      ]
     },
     "metadata": {},
     "output_type": "display_data"
    }
   ],
   "source": [
    "plt.figure(figsize=(8, 6))\n",
    "sns.displot(x = 'Age', hue='Outcome', \n",
    "            palette = 'GnBu',\n",
    "            data=cl)\n",
    "plt.xlabel(\"Age\")\n",
    "plt.title(\"Distribution of Age per Outcomes\", fontsize = 16)\n",
    "plt.show()"
   ]
  },
  {
   "cell_type": "code",
   "execution_count": 50,
   "metadata": {},
   "outputs": [
    {
     "data": {
      "image/png": "[encoded data removed]",
      "text/plain": [
       "<Figure size 576x432 with 1 Axes>"
      ]
     },
     "metadata": {},
     "output_type": "display_data"
    }
   ],
   "source": [
    "plt.figure(figsize=(8, 6))\n",
    "sns.pointplot(x=\"N\", y=\"Survival.Months\", hue=\"Outcome\", data=cl, palette=\"Accent\")\n",
    "plt.xlabel(\"Number of Metastasis to lymph nodes\")\n",
    "plt.ylabel(\"Survival Months\")\n",
    "plt.title(\"Mean Number of Metastasis to Lymph Nodes for Sirvival Months\")\n",
    "plt.show()"
   ]
  },
  {
   "cell_type": "code",
   "execution_count": 52,
   "metadata": {},
   "outputs": [
    {
     "data": {
      "image/png": "[encoded data removed]",
      "text/plain": [
       "<Figure size 576x432 with 1 Axes>"
      ]
     },
     "metadata": {},
     "output_type": "display_data"
    }
   ],
   "source": [
    "from numpy import median\n",
    "plt.figure(figsize=(8, 6))\n",
    "sns.pointplot(x=\"N\", y=\"Survival.Months\", hue=\"Outcome\", data=cl, \n",
    "              palette=\"Accent\", estimator = median)\n",
    "plt.xlabel(\"Number of Metastasis to lymph nodes\")\n",
    "plt.ylabel(\"Survival Months\")\n",
    "plt.title(\"Mean N for Sirvival Months\")\n",
    "plt.show()"
   ]
  },
  {
   "cell_type": "code",
   "execution_count": null,
   "metadata": {},
   "outputs": [],
   "source": []
  },
  {
   "cell_type": "code",
   "execution_count": 148,
   "metadata": {
    "scrolled": false
   },
   "outputs": [
    {
     "data": {
      "image/png": "[encoded data removed]",
      "text/plain": [
       "<Figure size 576x432 with 1 Axes>"
      ]
     },
     "metadata": {},
     "output_type": "display_data"
    }
   ],
   "source": [
    "plt.figure(figsize=(8, 6))\n",
    "sns.barplot(x='M', y= 'Survival.Months', hue='Radiation', \n",
    "            palette = 'GnBu',\n",
    "            data=cl)\n",
    "plt.xlabel(\"Survival.Months\")\n",
    "plt.ylabel(\"Number of Metastasis to lymph nodes\")\n",
    "plt.title(\"Outcome vs N per Radiation\")\n",
    "plt.show()"
   ]
  },
  {
   "cell_type": "code",
   "execution_count": 144,
   "metadata": {},
   "outputs": [],
   "source": [
    "cl['Outcome1'] = cl['Outcome'].replace({'Alive': 1, \"Dead\": 0})"
   ]
  },
  {
   "cell_type": "markdown",
   "metadata": {},
   "source": [
    "This plot shows the Number of mutated Genes against Survival Months. Outcomes are also separated by color."
   ]
  },
  {
   "cell_type": "code",
   "execution_count": 79,
   "metadata": {},
   "outputs": [
    {
     "data": {
      "text/plain": [
       "<AxesSubplot:xlabel='Num.Mutated.Genes', ylabel='Survival.Months'>"
      ]
     },
     "execution_count": 79,
     "metadata": {},
     "output_type": "execute_result"
    },
    {
     "data": {
      "image/png": "[encoded data removed]",
      "text/plain": [
       "<Figure size 864x432 with 1 Axes>"
      ]
     },
     "metadata": {},
     "output_type": "display_data"
    }
   ],
   "source": [
    "plt.figure(figsize=(12, 6))\n",
    "sns.boxplot(x = \"Num.Mutated.Genes\", y= 'Survival.Months', hue = \"Outcome\", data =cl)"
   ]
  },
  {
   "cell_type": "code",
   "execution_count": 150,
   "metadata": {
    "scrolled": true
   },
   "outputs": [
    {
     "data": {
      "text/plain": [
       "<AxesSubplot:xlabel='Num.Mutated.Genes', ylabel='Survival.Months'>"
      ]
     },
     "execution_count": 150,
     "metadata": {},
     "output_type": "execute_result"
    },
    {
     "data": {
      "image/png": "[encoded data removed]",
      "text/plain": [
       "<Figure size 864x432 with 1 Axes>"
      ]
     },
     "metadata": {},
     "output_type": "display_data"
    }
   ],
   "source": [
    "plt.figure(figsize=(12, 6))\n",
    "sns.scatterplot(x = \"Num.Mutated.Genes\", y= 'Survival.Months', hue = \"Outcome\", data =cl)"
   ]
  },
  {
   "cell_type": "code",
   "execution_count": 76,
   "metadata": {},
   "outputs": [
    {
     "data": {
      "text/plain": [
       "<AxesSubplot:xlabel='Num.Mutations', ylabel='Survival.Months'>"
      ]
     },
     "execution_count": 76,
     "metadata": {},
     "output_type": "execute_result"
    },
    {
     "data": {
      "image/png": "[encoded data removed]",
      "text/plain": [
       "<Figure size 864x576 with 1 Axes>"
      ]
     },
     "metadata": {},
     "output_type": "display_data"
    }
   ],
   "source": [
    "plt.figure(figsize=(12, 8))\n",
    "sns.boxplot(x = \"Num.Mutations\", y= 'Survival.Months', hue = \"Outcome\", data =cl)"
   ]
  },
  {
   "cell_type": "code",
   "execution_count": 69,
   "metadata": {},
   "outputs": [],
   "source": [
    "gen = pd.read_csv('genomics.csv')"
   ]
  },
  {
   "cell_type": "code",
   "execution_count": 70,
   "metadata": {},
   "outputs": [],
   "source": [
    "cl1 = cl.set_index('ID').join(gen.set_index('ID'), how = 'left', on = 'ID')"
   ]
  },
  {
   "cell_type": "code",
   "execution_count": 71,
   "metadata": {},
   "outputs": [
    {
     "data": {
      "text/html": [
       "<div>\n",
       "<style scoped>\n",
       "    .dataframe tbody tr th:only-of-type {\n",
       "        vertical-align: middle;\n",
       "    }\n",
       "\n",
       "    .dataframe tbody tr th {\n",
       "        vertical-align: top;\n",
       "    }\n",
       "\n",
       "    .dataframe thead th {\n",
       "        text-align: right;\n",
       "    }\n",
       "</style>\n",
       "<table border=\"1\" class=\"dataframe\">\n",
       "  <thead>\n",
       "    <tr style=\"text-align: right;\">\n",
       "      <th></th>\n",
       "      <th>Outcome</th>\n",
       "      <th>Survival.Months</th>\n",
       "      <th>Age</th>\n",
       "      <th>Grade</th>\n",
       "      <th>Num.Primaries</th>\n",
       "      <th>T</th>\n",
       "      <th>N</th>\n",
       "      <th>M</th>\n",
       "      <th>Radiation</th>\n",
       "      <th>Stage</th>\n",
       "      <th>Primary.Site</th>\n",
       "      <th>Histology</th>\n",
       "      <th>Tumor.Size</th>\n",
       "      <th>Num.Mutated.Genes</th>\n",
       "      <th>Num.Mutations</th>\n",
       "      <th>Outcome1</th>\n",
       "      <th>Gene</th>\n",
       "    </tr>\n",
       "    <tr>\n",
       "      <th>ID</th>\n",
       "      <th></th>\n",
       "      <th></th>\n",
       "      <th></th>\n",
       "      <th></th>\n",
       "      <th></th>\n",
       "      <th></th>\n",
       "      <th></th>\n",
       "      <th></th>\n",
       "      <th></th>\n",
       "      <th></th>\n",
       "      <th></th>\n",
       "      <th></th>\n",
       "      <th></th>\n",
       "      <th></th>\n",
       "      <th></th>\n",
       "      <th></th>\n",
       "      <th></th>\n",
       "    </tr>\n",
       "  </thead>\n",
       "  <tbody>\n",
       "    <tr>\n",
       "      <th>2</th>\n",
       "      <td>Dead</td>\n",
       "      <td>19.0</td>\n",
       "      <td>73</td>\n",
       "      <td>2</td>\n",
       "      <td>0</td>\n",
       "      <td>UNK</td>\n",
       "      <td>2.0</td>\n",
       "      <td>0.0</td>\n",
       "      <td>5</td>\n",
       "      <td>IV</td>\n",
       "      <td>Right Upper Lobe</td>\n",
       "      <td>Adenocarcinoma</td>\n",
       "      <td>4.0</td>\n",
       "      <td>2</td>\n",
       "      <td>2</td>\n",
       "      <td>0</td>\n",
       "      <td>SMO</td>\n",
       "    </tr>\n",
       "    <tr>\n",
       "      <th>2</th>\n",
       "      <td>Dead</td>\n",
       "      <td>19.0</td>\n",
       "      <td>73</td>\n",
       "      <td>2</td>\n",
       "      <td>0</td>\n",
       "      <td>UNK</td>\n",
       "      <td>2.0</td>\n",
       "      <td>0.0</td>\n",
       "      <td>5</td>\n",
       "      <td>IV</td>\n",
       "      <td>Right Upper Lobe</td>\n",
       "      <td>Adenocarcinoma</td>\n",
       "      <td>4.0</td>\n",
       "      <td>2</td>\n",
       "      <td>2</td>\n",
       "      <td>0</td>\n",
       "      <td>TP53_Col1</td>\n",
       "    </tr>\n",
       "    <tr>\n",
       "      <th>3</th>\n",
       "      <td>Dead</td>\n",
       "      <td>13.0</td>\n",
       "      <td>72</td>\n",
       "      <td>3</td>\n",
       "      <td>0</td>\n",
       "      <td>2</td>\n",
       "      <td>2.0</td>\n",
       "      <td>0.0</td>\n",
       "      <td>0</td>\n",
       "      <td>IIIA</td>\n",
       "      <td>Right Upper Lobe</td>\n",
       "      <td>Adenocarcinoma</td>\n",
       "      <td>1.5</td>\n",
       "      <td>1</td>\n",
       "      <td>1</td>\n",
       "      <td>0</td>\n",
       "      <td>STK11</td>\n",
       "    </tr>\n",
       "    <tr>\n",
       "      <th>4</th>\n",
       "      <td>Dead</td>\n",
       "      <td>15.0</td>\n",
       "      <td>69</td>\n",
       "      <td>9</td>\n",
       "      <td>1</td>\n",
       "      <td>1a</td>\n",
       "      <td>0.0</td>\n",
       "      <td>1.0</td>\n",
       "      <td>0</td>\n",
       "      <td>IA</td>\n",
       "      <td>Right Upper Lobe</td>\n",
       "      <td>Adenocarcinoma</td>\n",
       "      <td>4.0</td>\n",
       "      <td>4</td>\n",
       "      <td>4</td>\n",
       "      <td>0</td>\n",
       "      <td>CDKN2A</td>\n",
       "    </tr>\n",
       "    <tr>\n",
       "      <th>4</th>\n",
       "      <td>Dead</td>\n",
       "      <td>15.0</td>\n",
       "      <td>69</td>\n",
       "      <td>9</td>\n",
       "      <td>1</td>\n",
       "      <td>1a</td>\n",
       "      <td>0.0</td>\n",
       "      <td>1.0</td>\n",
       "      <td>0</td>\n",
       "      <td>IA</td>\n",
       "      <td>Right Upper Lobe</td>\n",
       "      <td>Adenocarcinoma</td>\n",
       "      <td>4.0</td>\n",
       "      <td>4</td>\n",
       "      <td>4</td>\n",
       "      <td>0</td>\n",
       "      <td>MET</td>\n",
       "    </tr>\n",
       "    <tr>\n",
       "      <th>...</th>\n",
       "      <td>...</td>\n",
       "      <td>...</td>\n",
       "      <td>...</td>\n",
       "      <td>...</td>\n",
       "      <td>...</td>\n",
       "      <td>...</td>\n",
       "      <td>...</td>\n",
       "      <td>...</td>\n",
       "      <td>...</td>\n",
       "      <td>...</td>\n",
       "      <td>...</td>\n",
       "      <td>...</td>\n",
       "      <td>...</td>\n",
       "      <td>...</td>\n",
       "      <td>...</td>\n",
       "      <td>...</td>\n",
       "      <td>...</td>\n",
       "    </tr>\n",
       "    <tr>\n",
       "      <th>189</th>\n",
       "      <td>Dead</td>\n",
       "      <td>32.0</td>\n",
       "      <td>67</td>\n",
       "      <td>4</td>\n",
       "      <td>1</td>\n",
       "      <td>1a</td>\n",
       "      <td>2.0</td>\n",
       "      <td>0.0</td>\n",
       "      <td>0</td>\n",
       "      <td>IV</td>\n",
       "      <td>Right Upper Lobe</td>\n",
       "      <td>Adenocarcinoma</td>\n",
       "      <td>10.0</td>\n",
       "      <td>3</td>\n",
       "      <td>3</td>\n",
       "      <td>0</td>\n",
       "      <td>CDKN2A</td>\n",
       "    </tr>\n",
       "    <tr>\n",
       "      <th>189</th>\n",
       "      <td>Dead</td>\n",
       "      <td>32.0</td>\n",
       "      <td>67</td>\n",
       "      <td>4</td>\n",
       "      <td>1</td>\n",
       "      <td>1a</td>\n",
       "      <td>2.0</td>\n",
       "      <td>0.0</td>\n",
       "      <td>0</td>\n",
       "      <td>IV</td>\n",
       "      <td>Right Upper Lobe</td>\n",
       "      <td>Adenocarcinoma</td>\n",
       "      <td>10.0</td>\n",
       "      <td>3</td>\n",
       "      <td>3</td>\n",
       "      <td>0</td>\n",
       "      <td>FBXW7</td>\n",
       "    </tr>\n",
       "    <tr>\n",
       "      <th>189</th>\n",
       "      <td>Dead</td>\n",
       "      <td>32.0</td>\n",
       "      <td>67</td>\n",
       "      <td>4</td>\n",
       "      <td>1</td>\n",
       "      <td>1a</td>\n",
       "      <td>2.0</td>\n",
       "      <td>0.0</td>\n",
       "      <td>0</td>\n",
       "      <td>IV</td>\n",
       "      <td>Right Upper Lobe</td>\n",
       "      <td>Adenocarcinoma</td>\n",
       "      <td>10.0</td>\n",
       "      <td>3</td>\n",
       "      <td>3</td>\n",
       "      <td>0</td>\n",
       "      <td>TP53_Col1</td>\n",
       "    </tr>\n",
       "    <tr>\n",
       "      <th>190</th>\n",
       "      <td>Dead</td>\n",
       "      <td>33.0</td>\n",
       "      <td>71</td>\n",
       "      <td>9</td>\n",
       "      <td>0</td>\n",
       "      <td>2a</td>\n",
       "      <td>2.0</td>\n",
       "      <td>0.0</td>\n",
       "      <td>0</td>\n",
       "      <td>IIIB</td>\n",
       "      <td>Right Upper Lobe</td>\n",
       "      <td>Adenocarcinoma</td>\n",
       "      <td>4.0</td>\n",
       "      <td>2</td>\n",
       "      <td>2</td>\n",
       "      <td>0</td>\n",
       "      <td>CDKN2A</td>\n",
       "    </tr>\n",
       "    <tr>\n",
       "      <th>190</th>\n",
       "      <td>Dead</td>\n",
       "      <td>33.0</td>\n",
       "      <td>71</td>\n",
       "      <td>9</td>\n",
       "      <td>0</td>\n",
       "      <td>2a</td>\n",
       "      <td>2.0</td>\n",
       "      <td>0.0</td>\n",
       "      <td>0</td>\n",
       "      <td>IIIB</td>\n",
       "      <td>Right Upper Lobe</td>\n",
       "      <td>Adenocarcinoma</td>\n",
       "      <td>4.0</td>\n",
       "      <td>2</td>\n",
       "      <td>2</td>\n",
       "      <td>0</td>\n",
       "      <td>TP53_Col1</td>\n",
       "    </tr>\n",
       "  </tbody>\n",
       "</table>\n",
       "<p>349 rows × 17 columns</p>\n",
       "</div>"
      ],
      "text/plain": [
       "    Outcome  Survival.Months  Age  Grade  Num.Primaries    T    N    M  \\\n",
       "ID                                                                       \n",
       "2      Dead             19.0   73      2              0  UNK  2.0  0.0   \n",
       "2      Dead             19.0   73      2              0  UNK  2.0  0.0   \n",
       "3      Dead             13.0   72      3              0    2  2.0  0.0   \n",
       "4      Dead             15.0   69      9              1   1a  0.0  1.0   \n",
       "4      Dead             15.0   69      9              1   1a  0.0  1.0   \n",
       "..      ...              ...  ...    ...            ...  ...  ...  ...   \n",
       "189    Dead             32.0   67      4              1   1a  2.0  0.0   \n",
       "189    Dead             32.0   67      4              1   1a  2.0  0.0   \n",
       "189    Dead             32.0   67      4              1   1a  2.0  0.0   \n",
       "190    Dead             33.0   71      9              0   2a  2.0  0.0   \n",
       "190    Dead             33.0   71      9              0   2a  2.0  0.0   \n",
       "\n",
       "     Radiation Stage      Primary.Site       Histology  Tumor.Size  \\\n",
       "ID                                                                   \n",
       "2            5    IV  Right Upper Lobe  Adenocarcinoma         4.0   \n",
       "2            5    IV  Right Upper Lobe  Adenocarcinoma         4.0   \n",
       "3            0  IIIA  Right Upper Lobe  Adenocarcinoma         1.5   \n",
       "4            0    IA  Right Upper Lobe  Adenocarcinoma         4.0   \n",
       "4            0    IA  Right Upper Lobe  Adenocarcinoma         4.0   \n",
       "..         ...   ...               ...             ...         ...   \n",
       "189          0    IV  Right Upper Lobe  Adenocarcinoma        10.0   \n",
       "189          0    IV  Right Upper Lobe  Adenocarcinoma        10.0   \n",
       "189          0    IV  Right Upper Lobe  Adenocarcinoma        10.0   \n",
       "190          0  IIIB  Right Upper Lobe  Adenocarcinoma         4.0   \n",
       "190          0  IIIB  Right Upper Lobe  Adenocarcinoma         4.0   \n",
       "\n",
       "     Num.Mutated.Genes  Num.Mutations  Outcome1       Gene  \n",
       "ID                                                          \n",
       "2                    2              2         0        SMO  \n",
       "2                    2              2         0  TP53_Col1  \n",
       "3                    1              1         0      STK11  \n",
       "4                    4              4         0     CDKN2A  \n",
       "4                    4              4         0        MET  \n",
       "..                 ...            ...       ...        ...  \n",
       "189                  3              3         0     CDKN2A  \n",
       "189                  3              3         0      FBXW7  \n",
       "189                  3              3         0  TP53_Col1  \n",
       "190                  2              2         0     CDKN2A  \n",
       "190                  2              2         0  TP53_Col1  \n",
       "\n",
       "[349 rows x 17 columns]"
      ]
     },
     "execution_count": 71,
     "metadata": {},
     "output_type": "execute_result"
    }
   ],
   "source": [
    "cl2 = cl1[cl1['Survival.Months'] >= 12]\n",
    "cl2"
   ]
  },
  {
   "cell_type": "code",
   "execution_count": 81,
   "metadata": {},
   "outputs": [
    {
     "data": {
      "text/plain": [
       "46"
      ]
     },
     "execution_count": 81,
     "metadata": {},
     "output_type": "execute_result"
    }
   ],
   "source": [
    "cl2['Gene'].nunique()"
   ]
  },
  {
   "cell_type": "code",
   "execution_count": 152,
   "metadata": {},
   "outputs": [
    {
     "data": {
      "text/plain": [
       "1    270\n",
       "2     79\n",
       "Name: Outcome, dtype: int64"
      ]
     },
     "execution_count": 152,
     "metadata": {},
     "output_type": "execute_result"
    }
   ],
   "source": [
    "cl2['Outcome'].value_counts()"
   ]
  },
  {
   "cell_type": "code",
   "execution_count": 88,
   "metadata": {},
   "outputs": [],
   "source": [
    "def conversion(col):\n",
    "    un = cl2[col].unique()\n",
    "    d = {}\n",
    "    unq_val = 0\n",
    "    for i in un:\n",
    "        if i not in d:\n",
    "            d[i] = unq_val + 1\n",
    "            unq_val += 1\n",
    "    return d    "
   ]
  },
  {
   "cell_type": "code",
   "execution_count": 84,
   "metadata": {},
   "outputs": [
    {
     "data": {
      "text/plain": [
       "{'Alive': 1, 'Dead': 2}"
      ]
     },
     "execution_count": 84,
     "metadata": {},
     "output_type": "execute_result"
    }
   ],
   "source": [
    "conversion(\"Outcome\")"
   ]
  },
  {
   "cell_type": "code",
   "execution_count": 89,
   "metadata": {},
   "outputs": [
    {
     "data": {
      "text/plain": [
       "Outcome               object\n",
       "Survival.Months      float64\n",
       "Age                    int64\n",
       "Grade                  int64\n",
       "Num.Primaries          int64\n",
       "T                     object\n",
       "N                    float64\n",
       "M                    float64\n",
       "Radiation              int64\n",
       "Stage                 object\n",
       "Primary.Site          object\n",
       "Histology             object\n",
       "Tumor.Size           float64\n",
       "Num.Mutated.Genes      int64\n",
       "Num.Mutations          int64\n",
       "Outcome1               int64\n",
       "Gene                  object\n",
       "dtype: object"
      ]
     },
     "execution_count": 89,
     "metadata": {},
     "output_type": "execute_result"
    }
   ],
   "source": [
    "dt = cl2.dtypes\n",
    "dt"
   ]
  },
  {
   "cell_type": "code",
   "execution_count": 90,
   "metadata": {},
   "outputs": [
    {
     "name": "stderr",
     "output_type": "stream",
     "text": [
      "<ipython-input-90-722745fa6215>:3: SettingWithCopyWarning: \n",
      "A value is trying to be set on a copy of a slice from a DataFrame.\n",
      "Try using .loc[row_indexer,col_indexer] = value instead\n",
      "\n",
      "See the caveats in the documentation: https://pandas.pydata.org/pandas-docs/stable/user_guide/indexing.html#returning-a-view-versus-a-copy\n",
      "  cl2[i] = cl2[i].replace(conversion(i))\n"
     ]
    }
   ],
   "source": [
    "for i in cl2.columns:\n",
    "    if dt[i] == 'object':\n",
    "        cl2[i] = cl2[i].replace(conversion(i))"
   ]
  },
  {
   "cell_type": "code",
   "execution_count": 154,
   "metadata": {},
   "outputs": [
    {
     "data": {
      "text/html": [
       "<div>\n",
       "<style scoped>\n",
       "    .dataframe tbody tr th:only-of-type {\n",
       "        vertical-align: middle;\n",
       "    }\n",
       "\n",
       "    .dataframe tbody tr th {\n",
       "        vertical-align: top;\n",
       "    }\n",
       "\n",
       "    .dataframe thead th {\n",
       "        text-align: right;\n",
       "    }\n",
       "</style>\n",
       "<table border=\"1\" class=\"dataframe\">\n",
       "  <thead>\n",
       "    <tr style=\"text-align: right;\">\n",
       "      <th></th>\n",
       "      <th>Outcome</th>\n",
       "      <th>Survival.Months</th>\n",
       "      <th>Age</th>\n",
       "      <th>Grade</th>\n",
       "      <th>Num.Primaries</th>\n",
       "      <th>T</th>\n",
       "      <th>N</th>\n",
       "      <th>M</th>\n",
       "      <th>Radiation</th>\n",
       "      <th>Stage</th>\n",
       "      <th>Primary.Site</th>\n",
       "      <th>Histology</th>\n",
       "      <th>Tumor.Size</th>\n",
       "      <th>Num.Mutated.Genes</th>\n",
       "      <th>Num.Mutations</th>\n",
       "      <th>Outcome1</th>\n",
       "      <th>Gene</th>\n",
       "    </tr>\n",
       "    <tr>\n",
       "      <th>ID</th>\n",
       "      <th></th>\n",
       "      <th></th>\n",
       "      <th></th>\n",
       "      <th></th>\n",
       "      <th></th>\n",
       "      <th></th>\n",
       "      <th></th>\n",
       "      <th></th>\n",
       "      <th></th>\n",
       "      <th></th>\n",
       "      <th></th>\n",
       "      <th></th>\n",
       "      <th></th>\n",
       "      <th></th>\n",
       "      <th></th>\n",
       "      <th></th>\n",
       "      <th></th>\n",
       "    </tr>\n",
       "  </thead>\n",
       "  <tbody>\n",
       "    <tr>\n",
       "      <th>2</th>\n",
       "      <td>1</td>\n",
       "      <td>19.0</td>\n",
       "      <td>73</td>\n",
       "      <td>2</td>\n",
       "      <td>0</td>\n",
       "      <td>1</td>\n",
       "      <td>2.0</td>\n",
       "      <td>0.0</td>\n",
       "      <td>5</td>\n",
       "      <td>1</td>\n",
       "      <td>1</td>\n",
       "      <td>1</td>\n",
       "      <td>4.0</td>\n",
       "      <td>2</td>\n",
       "      <td>2</td>\n",
       "      <td>0</td>\n",
       "      <td>1</td>\n",
       "    </tr>\n",
       "    <tr>\n",
       "      <th>2</th>\n",
       "      <td>1</td>\n",
       "      <td>19.0</td>\n",
       "      <td>73</td>\n",
       "      <td>2</td>\n",
       "      <td>0</td>\n",
       "      <td>1</td>\n",
       "      <td>2.0</td>\n",
       "      <td>0.0</td>\n",
       "      <td>5</td>\n",
       "      <td>1</td>\n",
       "      <td>1</td>\n",
       "      <td>1</td>\n",
       "      <td>4.0</td>\n",
       "      <td>2</td>\n",
       "      <td>2</td>\n",
       "      <td>0</td>\n",
       "      <td>2</td>\n",
       "    </tr>\n",
       "    <tr>\n",
       "      <th>3</th>\n",
       "      <td>1</td>\n",
       "      <td>13.0</td>\n",
       "      <td>72</td>\n",
       "      <td>3</td>\n",
       "      <td>0</td>\n",
       "      <td>2</td>\n",
       "      <td>2.0</td>\n",
       "      <td>0.0</td>\n",
       "      <td>0</td>\n",
       "      <td>2</td>\n",
       "      <td>1</td>\n",
       "      <td>1</td>\n",
       "      <td>1.5</td>\n",
       "      <td>1</td>\n",
       "      <td>1</td>\n",
       "      <td>0</td>\n",
       "      <td>3</td>\n",
       "    </tr>\n",
       "    <tr>\n",
       "      <th>4</th>\n",
       "      <td>1</td>\n",
       "      <td>15.0</td>\n",
       "      <td>69</td>\n",
       "      <td>9</td>\n",
       "      <td>1</td>\n",
       "      <td>3</td>\n",
       "      <td>0.0</td>\n",
       "      <td>1.0</td>\n",
       "      <td>0</td>\n",
       "      <td>3</td>\n",
       "      <td>1</td>\n",
       "      <td>1</td>\n",
       "      <td>4.0</td>\n",
       "      <td>4</td>\n",
       "      <td>4</td>\n",
       "      <td>0</td>\n",
       "      <td>4</td>\n",
       "    </tr>\n",
       "    <tr>\n",
       "      <th>4</th>\n",
       "      <td>1</td>\n",
       "      <td>15.0</td>\n",
       "      <td>69</td>\n",
       "      <td>9</td>\n",
       "      <td>1</td>\n",
       "      <td>3</td>\n",
       "      <td>0.0</td>\n",
       "      <td>1.0</td>\n",
       "      <td>0</td>\n",
       "      <td>3</td>\n",
       "      <td>1</td>\n",
       "      <td>1</td>\n",
       "      <td>4.0</td>\n",
       "      <td>4</td>\n",
       "      <td>4</td>\n",
       "      <td>0</td>\n",
       "      <td>5</td>\n",
       "    </tr>\n",
       "    <tr>\n",
       "      <th>...</th>\n",
       "      <td>...</td>\n",
       "      <td>...</td>\n",
       "      <td>...</td>\n",
       "      <td>...</td>\n",
       "      <td>...</td>\n",
       "      <td>...</td>\n",
       "      <td>...</td>\n",
       "      <td>...</td>\n",
       "      <td>...</td>\n",
       "      <td>...</td>\n",
       "      <td>...</td>\n",
       "      <td>...</td>\n",
       "      <td>...</td>\n",
       "      <td>...</td>\n",
       "      <td>...</td>\n",
       "      <td>...</td>\n",
       "      <td>...</td>\n",
       "    </tr>\n",
       "    <tr>\n",
       "      <th>189</th>\n",
       "      <td>1</td>\n",
       "      <td>32.0</td>\n",
       "      <td>67</td>\n",
       "      <td>4</td>\n",
       "      <td>1</td>\n",
       "      <td>3</td>\n",
       "      <td>2.0</td>\n",
       "      <td>0.0</td>\n",
       "      <td>0</td>\n",
       "      <td>1</td>\n",
       "      <td>1</td>\n",
       "      <td>1</td>\n",
       "      <td>10.0</td>\n",
       "      <td>3</td>\n",
       "      <td>3</td>\n",
       "      <td>0</td>\n",
       "      <td>4</td>\n",
       "    </tr>\n",
       "    <tr>\n",
       "      <th>189</th>\n",
       "      <td>1</td>\n",
       "      <td>32.0</td>\n",
       "      <td>67</td>\n",
       "      <td>4</td>\n",
       "      <td>1</td>\n",
       "      <td>3</td>\n",
       "      <td>2.0</td>\n",
       "      <td>0.0</td>\n",
       "      <td>0</td>\n",
       "      <td>1</td>\n",
       "      <td>1</td>\n",
       "      <td>1</td>\n",
       "      <td>10.0</td>\n",
       "      <td>3</td>\n",
       "      <td>3</td>\n",
       "      <td>0</td>\n",
       "      <td>11</td>\n",
       "    </tr>\n",
       "    <tr>\n",
       "      <th>189</th>\n",
       "      <td>1</td>\n",
       "      <td>32.0</td>\n",
       "      <td>67</td>\n",
       "      <td>4</td>\n",
       "      <td>1</td>\n",
       "      <td>3</td>\n",
       "      <td>2.0</td>\n",
       "      <td>0.0</td>\n",
       "      <td>0</td>\n",
       "      <td>1</td>\n",
       "      <td>1</td>\n",
       "      <td>1</td>\n",
       "      <td>10.0</td>\n",
       "      <td>3</td>\n",
       "      <td>3</td>\n",
       "      <td>0</td>\n",
       "      <td>2</td>\n",
       "    </tr>\n",
       "    <tr>\n",
       "      <th>190</th>\n",
       "      <td>1</td>\n",
       "      <td>33.0</td>\n",
       "      <td>71</td>\n",
       "      <td>9</td>\n",
       "      <td>0</td>\n",
       "      <td>6</td>\n",
       "      <td>2.0</td>\n",
       "      <td>0.0</td>\n",
       "      <td>0</td>\n",
       "      <td>5</td>\n",
       "      <td>1</td>\n",
       "      <td>1</td>\n",
       "      <td>4.0</td>\n",
       "      <td>2</td>\n",
       "      <td>2</td>\n",
       "      <td>0</td>\n",
       "      <td>4</td>\n",
       "    </tr>\n",
       "    <tr>\n",
       "      <th>190</th>\n",
       "      <td>1</td>\n",
       "      <td>33.0</td>\n",
       "      <td>71</td>\n",
       "      <td>9</td>\n",
       "      <td>0</td>\n",
       "      <td>6</td>\n",
       "      <td>2.0</td>\n",
       "      <td>0.0</td>\n",
       "      <td>0</td>\n",
       "      <td>5</td>\n",
       "      <td>1</td>\n",
       "      <td>1</td>\n",
       "      <td>4.0</td>\n",
       "      <td>2</td>\n",
       "      <td>2</td>\n",
       "      <td>0</td>\n",
       "      <td>2</td>\n",
       "    </tr>\n",
       "  </tbody>\n",
       "</table>\n",
       "<p>349 rows × 17 columns</p>\n",
       "</div>"
      ],
      "text/plain": [
       "     Outcome  Survival.Months  Age  Grade  Num.Primaries  T    N    M  \\\n",
       "ID                                                                      \n",
       "2          1             19.0   73      2              0  1  2.0  0.0   \n",
       "2          1             19.0   73      2              0  1  2.0  0.0   \n",
       "3          1             13.0   72      3              0  2  2.0  0.0   \n",
       "4          1             15.0   69      9              1  3  0.0  1.0   \n",
       "4          1             15.0   69      9              1  3  0.0  1.0   \n",
       "..       ...              ...  ...    ...            ... ..  ...  ...   \n",
       "189        1             32.0   67      4              1  3  2.0  0.0   \n",
       "189        1             32.0   67      4              1  3  2.0  0.0   \n",
       "189        1             32.0   67      4              1  3  2.0  0.0   \n",
       "190        1             33.0   71      9              0  6  2.0  0.0   \n",
       "190        1             33.0   71      9              0  6  2.0  0.0   \n",
       "\n",
       "     Radiation  Stage  Primary.Site  Histology  Tumor.Size  Num.Mutated.Genes  \\\n",
       "ID                                                                              \n",
       "2            5      1             1          1         4.0                  2   \n",
       "2            5      1             1          1         4.0                  2   \n",
       "3            0      2             1          1         1.5                  1   \n",
       "4            0      3             1          1         4.0                  4   \n",
       "4            0      3             1          1         4.0                  4   \n",
       "..         ...    ...           ...        ...         ...                ...   \n",
       "189          0      1             1          1        10.0                  3   \n",
       "189          0      1             1          1        10.0                  3   \n",
       "189          0      1             1          1        10.0                  3   \n",
       "190          0      5             1          1         4.0                  2   \n",
       "190          0      5             1          1         4.0                  2   \n",
       "\n",
       "     Num.Mutations  Outcome1  Gene  \n",
       "ID                                  \n",
       "2                2         0     1  \n",
       "2                2         0     2  \n",
       "3                1         0     3  \n",
       "4                4         0     4  \n",
       "4                4         0     5  \n",
       "..             ...       ...   ...  \n",
       "189              3         0     4  \n",
       "189              3         0    11  \n",
       "189              3         0     2  \n",
       "190              2         0     4  \n",
       "190              2         0     2  \n",
       "\n",
       "[349 rows x 17 columns]"
      ]
     },
     "execution_count": 154,
     "metadata": {},
     "output_type": "execute_result"
    }
   ],
   "source": [
    "cl2"
   ]
  },
  {
   "cell_type": "code",
   "execution_count": null,
   "metadata": {},
   "outputs": [],
   "source": []
  },
  {
   "cell_type": "code",
   "execution_count": 158,
   "metadata": {},
   "outputs": [],
   "source": [
    "X = cl2.drop(columns = [\"Outcome\", \"Outcome1\"])\n",
    "y = cl2['Outcome']"
   ]
  },
  {
   "cell_type": "code",
   "execution_count": 159,
   "metadata": {},
   "outputs": [],
   "source": [
    "from sklearn.model_selection import train_test_split\n",
    "x_train, x_test, y_train, y_test = train_test_split(X, y, \n",
    "                                                    test_size = 0.25,\n",
    "                                                   random_state=35)"
   ]
  },
  {
   "cell_type": "code",
   "execution_count": 160,
   "metadata": {},
   "outputs": [],
   "source": [
    "from sklearn.linear_model import LogisticRegression"
   ]
  },
  {
   "cell_type": "code",
   "execution_count": 161,
   "metadata": {},
   "outputs": [
    {
     "name": "stderr",
     "output_type": "stream",
     "text": [
      "C:\\Users\\rashi\\anaconda3\\lib\\site-packages\\sklearn\\linear_model\\_logistic.py:814: ConvergenceWarning: lbfgs failed to converge (status=1):\n",
      "STOP: TOTAL NO. of ITERATIONS REACHED LIMIT.\n",
      "\n",
      "Increase the number of iterations (max_iter) or scale the data as shown in:\n",
      "    https://scikit-learn.org/stable/modules/preprocessing.html\n",
      "Please also refer to the documentation for alternative solver options:\n",
      "    https://scikit-learn.org/stable/modules/linear_model.html#logistic-regression\n",
      "  n_iter_i = _check_optimize_result(\n"
     ]
    },
    {
     "data": {
      "text/plain": [
       "0.8659003831417624"
      ]
     },
     "execution_count": 161,
     "metadata": {},
     "output_type": "execute_result"
    }
   ],
   "source": [
    "clf=LogisticRegression(random_state=0).fit(x_train, y_train)\n",
    "clf.score(x_train, y_train)"
   ]
  },
  {
   "cell_type": "code",
   "execution_count": 163,
   "metadata": {},
   "outputs": [
    {
     "data": {
      "text/plain": [
       "0.8295454545454546"
      ]
     },
     "execution_count": 163,
     "metadata": {},
     "output_type": "execute_result"
    }
   ],
   "source": [
    "clf.score(x_test, y_test)"
   ]
  },
  {
   "cell_type": "code",
   "execution_count": 164,
   "metadata": {},
   "outputs": [
    {
     "data": {
      "text/plain": [
       "1    270\n",
       "2     79\n",
       "Name: Outcome, dtype: int64"
      ]
     },
     "execution_count": 164,
     "metadata": {},
     "output_type": "execute_result"
    }
   ],
   "source": [
    "cl2['Outcome'].value_counts()"
   ]
  },
  {
   "cell_type": "code",
   "execution_count": 165,
   "metadata": {},
   "outputs": [],
   "source": [
    "y_pred = clf.predict(x_test)"
   ]
  },
  {
   "cell_type": "code",
   "execution_count": 166,
   "metadata": {},
   "outputs": [],
   "source": [
    "from sklearn.metrics import confusion_matrix"
   ]
  },
  {
   "cell_type": "code",
   "execution_count": 167,
   "metadata": {},
   "outputs": [],
   "source": [
    "def tpr_tnr(y_test, y_pred):\n",
    "    tn, fp, fn, tp = confusion_matrix(y_test, y_pred).ravel()\n",
    "    tpr = tp/(tp+fn)\n",
    "    tnr = tn/(tn+fp)\n",
    "    precision = tn/(tn+fn)\n",
    "    recall = tn/(tn+fp)\n",
    "    f1_score = 2*precision*recall/(precision + recall)   \n",
    "    return tpr, tnr, precision, recall, f1_score"
   ]
  },
  {
   "cell_type": "code",
   "execution_count": 168,
   "metadata": {},
   "outputs": [
    {
     "data": {
      "text/plain": [
       "(0.625, 0.90625, 0.8656716417910447, 0.90625, 0.8854961832061069)"
      ]
     },
     "execution_count": 168,
     "metadata": {},
     "output_type": "execute_result"
    }
   ],
   "source": [
    "tpr, tnr, precision, recall, f1_score = tpr_tnr(y_test, y_pred)\n",
    "tpr, tnr, precision, recall, f1_score"
   ]
  },
  {
   "cell_type": "code",
   "execution_count": 169,
   "metadata": {},
   "outputs": [
    {
     "name": "stderr",
     "output_type": "stream",
     "text": [
      "C:\\Users\\rashi\\anaconda3\\lib\\site-packages\\sklearn\\utils\\deprecation.py:87: FutureWarning: Function plot_roc_curve is deprecated; Function :func:`plot_roc_curve` is deprecated in 1.0 and will be removed in 1.2. Use one of the class methods: :meth:`sklearn.metric.RocCurveDisplay.from_predictions` or :meth:`sklearn.metric.RocCurveDisplay.from_estimator`.\n",
      "  warnings.warn(msg, category=FutureWarning)\n"
     ]
    },
    {
     "data": {
      "text/plain": [
       "<sklearn.metrics._plot.roc_curve.RocCurveDisplay at 0x1f5b8f99040>"
      ]
     },
     "execution_count": 169,
     "metadata": {},
     "output_type": "execute_result"
    },
    {
     "data": {
      "image/png": "[encoded data removed]",
      "text/plain": [
       "<Figure size 432x288 with 1 Axes>"
      ]
     },
     "metadata": {},
     "output_type": "display_data"
    }
   ],
   "source": [
    "from sklearn import metrics\n",
    "metrics.plot_roc_curve(clf, x_test, y_test)"
   ]
  },
  {
   "cell_type": "code",
   "execution_count": 238,
   "metadata": {},
   "outputs": [],
   "source": [
    "from sklearn.feature_selection import SelectKBest\n",
    "from sklearn.feature_selection import f_classif"
   ]
  },
  {
   "cell_type": "code",
   "execution_count": 239,
   "metadata": {},
   "outputs": [],
   "source": [
    "uni = SelectKBest(score_func = f_classif, k = 10)\n",
    "fit = uni.fit(X, y)"
   ]
  },
  {
   "cell_type": "code",
   "execution_count": 240,
   "metadata": {},
   "outputs": [],
   "source": [
    "X1_cols = X.columns[fit.get_support(indices=True)].tolist()"
   ]
  },
  {
   "cell_type": "code",
   "execution_count": 241,
   "metadata": {},
   "outputs": [
    {
     "data": {
      "text/plain": [
       "['Survival.Months',\n",
       " 'Age',\n",
       " 'Grade',\n",
       " 'Num.Primaries',\n",
       " 'T',\n",
       " 'N',\n",
       " 'Primary.Site',\n",
       " 'Histology',\n",
       " 'Tumor.Size',\n",
       " 'Gene']"
      ]
     },
     "execution_count": 241,
     "metadata": {},
     "output_type": "execute_result"
    }
   ],
   "source": [
    "X1_cols"
   ]
  },
  {
   "cell_type": "code",
   "execution_count": 181,
   "metadata": {},
   "outputs": [
    {
     "data": {
      "text/plain": [
       "Index(['Outcome', 'Survival.Months', 'Age', 'Num.Primaries', 'T', 'N',\n",
       "       'Primary.Site', 'Histology', 'Tumor.Size', 'Gene'],\n",
       "      dtype='object')"
      ]
     },
     "execution_count": 181,
     "metadata": {},
     "output_type": "execute_result"
    }
   ],
   "source": [
    "cor = cl2.drop(columns = 'Outcome1').corr()\n",
    "cor_target = abs(cor[\"Outcome\"])\n",
    "relevant_features = cor_target[cor_target > 0.15]\n",
    "relevant_features.index"
   ]
  },
  {
   "cell_type": "code",
   "execution_count": 112,
   "metadata": {},
   "outputs": [],
   "source": [
    "X1 = X[X1_cols]"
   ]
  },
  {
   "cell_type": "code",
   "execution_count": 114,
   "metadata": {},
   "outputs": [],
   "source": [
    "from sklearn.model_selection import train_test_split\n",
    "x_train, x_test, y_train, y_test = train_test_split(X1, y, \n",
    "                                                    test_size = 0.25,\n",
    "                                                   random_state=35)"
   ]
  },
  {
   "cell_type": "code",
   "execution_count": 190,
   "metadata": {},
   "outputs": [
    {
     "name": "stderr",
     "output_type": "stream",
     "text": [
      "C:\\Users\\rashi\\anaconda3\\lib\\site-packages\\sklearn\\linear_model\\_logistic.py:814: ConvergenceWarning: lbfgs failed to converge (status=1):\n",
      "STOP: TOTAL NO. of ITERATIONS REACHED LIMIT.\n",
      "\n",
      "Increase the number of iterations (max_iter) or scale the data as shown in:\n",
      "    https://scikit-learn.org/stable/modules/preprocessing.html\n",
      "Please also refer to the documentation for alternative solver options:\n",
      "    https://scikit-learn.org/stable/modules/linear_model.html#logistic-regression\n",
      "  n_iter_i = _check_optimize_result(\n"
     ]
    },
    {
     "data": {
      "text/plain": [
       "0.8659003831417624"
      ]
     },
     "execution_count": 190,
     "metadata": {},
     "output_type": "execute_result"
    }
   ],
   "source": [
    "clf=LogisticRegression(random_state=0).fit(x_train, y_train)\n",
    "clf.score(x_train, y_train)"
   ]
  },
  {
   "cell_type": "code",
   "execution_count": 191,
   "metadata": {},
   "outputs": [
    {
     "data": {
      "text/plain": [
       "0.8295454545454546"
      ]
     },
     "execution_count": 191,
     "metadata": {},
     "output_type": "execute_result"
    }
   ],
   "source": [
    "clf.score(x_test, y_test)"
   ]
  },
  {
   "cell_type": "code",
   "execution_count": 192,
   "metadata": {},
   "outputs": [],
   "source": [
    "y_pred = clf.predict(x_test)"
   ]
  },
  {
   "cell_type": "code",
   "execution_count": 193,
   "metadata": {},
   "outputs": [
    {
     "data": {
      "text/plain": [
       "(0.625, 0.90625, 0.8656716417910447, 0.90625, 0.8854961832061069)"
      ]
     },
     "execution_count": 193,
     "metadata": {},
     "output_type": "execute_result"
    }
   ],
   "source": [
    "tpr, tnr, precision, recall, f1_score = tpr_tnr(y_test, y_pred)\n",
    "tpr, tnr, precision, recall, f1_score"
   ]
  },
  {
   "cell_type": "code",
   "execution_count": 195,
   "metadata": {},
   "outputs": [
    {
     "name": "stderr",
     "output_type": "stream",
     "text": [
      "C:\\Users\\rashi\\anaconda3\\lib\\site-packages\\sklearn\\utils\\deprecation.py:87: FutureWarning: Function plot_roc_curve is deprecated; Function :func:`plot_roc_curve` is deprecated in 1.0 and will be removed in 1.2. Use one of the class methods: :meth:`sklearn.metric.RocCurveDisplay.from_predictions` or :meth:`sklearn.metric.RocCurveDisplay.from_estimator`.\n",
      "  warnings.warn(msg, category=FutureWarning)\n"
     ]
    },
    {
     "data": {
      "text/plain": [
       "<sklearn.metrics._plot.roc_curve.RocCurveDisplay at 0x1f5b8de4f10>"
      ]
     },
     "execution_count": 195,
     "metadata": {},
     "output_type": "execute_result"
    },
    {
     "data": {
      "image/png": "[encoded data removed]",
      "text/plain": [
       "<Figure size 432x288 with 1 Axes>"
      ]
     },
     "metadata": {},
     "output_type": "display_data"
    }
   ],
   "source": [
    "from sklearn import metrics\n",
    "metrics.plot_roc_curve(clf, x_test, y_test)"
   ]
  },
  {
   "cell_type": "code",
   "execution_count": 196,
   "metadata": {},
   "outputs": [],
   "source": [
    "from sklearn.ensemble import RandomForestClassifier"
   ]
  },
  {
   "cell_type": "code",
   "execution_count": 202,
   "metadata": {},
   "outputs": [],
   "source": [
    "from sklearn.model_selection import GridSearchCV"
   ]
  },
  {
   "cell_type": "code",
   "execution_count": 206,
   "metadata": {},
   "outputs": [],
   "source": [
    "params = {'max_depth': [5, 6, 7, 8, 9]\n",
    "         }"
   ]
  },
  {
   "cell_type": "code",
   "execution_count": 207,
   "metadata": {},
   "outputs": [],
   "source": [
    "from sklearn.model_selection import GridSearchCV\n",
    "rfc = RandomForestClassifier(random_state = 23)\n",
    "rfc_cv = GridSearchCV(rfc, params)"
   ]
  },
  {
   "cell_type": "code",
   "execution_count": 208,
   "metadata": {},
   "outputs": [
    {
     "data": {
      "text/plain": [
       "0.9961685823754789"
      ]
     },
     "execution_count": 208,
     "metadata": {},
     "output_type": "execute_result"
    }
   ],
   "source": [
    "rfc_cv.fit(x_train, y_train)\n",
    "rfc_cv.score(x_train, y_train)"
   ]
  },
  {
   "cell_type": "code",
   "execution_count": 209,
   "metadata": {},
   "outputs": [
    {
     "data": {
      "text/plain": [
       "0.9318181818181818"
      ]
     },
     "execution_count": 209,
     "metadata": {},
     "output_type": "execute_result"
    }
   ],
   "source": [
    "rfc_cv.score(x_test, y_test)"
   ]
  },
  {
   "cell_type": "code",
   "execution_count": 210,
   "metadata": {},
   "outputs": [],
   "source": [
    "y_pred = rfc_cv.predict(x_test)"
   ]
  },
  {
   "cell_type": "code",
   "execution_count": 211,
   "metadata": {},
   "outputs": [
    {
     "data": {
      "text/plain": [
       "(0.8333333333333334, 0.96875, 0.9393939393939394, 0.96875, 0.9538461538461539)"
      ]
     },
     "execution_count": 211,
     "metadata": {},
     "output_type": "execute_result"
    }
   ],
   "source": [
    "tpr, tnr, precision, recall, f1_score = tpr_tnr(y_test, y_pred)\n",
    "tpr, tnr, precision, recall, f1_score"
   ]
  },
  {
   "cell_type": "code",
   "execution_count": 220,
   "metadata": {},
   "outputs": [
    {
     "data": {
      "text/plain": [
       "1.0"
      ]
     },
     "execution_count": 220,
     "metadata": {},
     "output_type": "execute_result"
    }
   ],
   "source": [
    "from sklearn.tree import DecisionTreeClassifier\n",
    "dt = DecisionTreeClassifier(random_state=0).fit(x_train, y_train)\n",
    "dt.score(x_train, y_train)"
   ]
  },
  {
   "cell_type": "code",
   "execution_count": 221,
   "metadata": {},
   "outputs": [
    {
     "data": {
      "text/plain": [
       "0.8977272727272727"
      ]
     },
     "execution_count": 221,
     "metadata": {},
     "output_type": "execute_result"
    }
   ],
   "source": [
    "dt.score(x_test, y_test)"
   ]
  },
  {
   "cell_type": "code",
   "execution_count": 222,
   "metadata": {},
   "outputs": [],
   "source": [
    "y_pred = dt.predict(x_test)"
   ]
  },
  {
   "cell_type": "code",
   "execution_count": 223,
   "metadata": {},
   "outputs": [
    {
     "data": {
      "text/plain": [
       "(0.7916666666666666, 0.9375, 0.9230769230769231, 0.9375, 0.9302325581395349)"
      ]
     },
     "execution_count": 223,
     "metadata": {},
     "output_type": "execute_result"
    }
   ],
   "source": [
    "tpr, tnr, precision, recall, f1_score = tpr_tnr(y_test, y_pred)\n",
    "tpr, tnr, precision, recall, f1_score"
   ]
  },
  {
   "cell_type": "code",
   "execution_count": 225,
   "metadata": {},
   "outputs": [],
   "source": [
    "cl3 = cl2.drop(columns = 'Outcome1')"
   ]
  },
  {
   "cell_type": "code",
   "execution_count": 233,
   "metadata": {},
   "outputs": [],
   "source": [
    "cl3['nm'] = cl3['N']/cl3['M']"
   ]
  },
  {
   "cell_type": "code",
   "execution_count": 235,
   "metadata": {},
   "outputs": [
    {
     "data": {
      "text/plain": [
       "Index(['Outcome', 'Survival.Months', 'Age', 'Grade', 'Num.Primaries', 'T', 'N',\n",
       "       'M', 'Radiation', 'Stage', 'Primary.Site', 'Histology', 'Tumor.Size',\n",
       "       'Num.Mutated.Genes', 'Num.Mutations', 'Gene', 'n/m', 'nmg', 'nm'],\n",
       "      dtype='object')"
      ]
     },
     "execution_count": 235,
     "metadata": {},
     "output_type": "execute_result"
    }
   ],
   "source": [
    "cl3.columns"
   ]
  },
  {
   "cell_type": "code",
   "execution_count": 234,
   "metadata": {},
   "outputs": [],
   "source": [
    "cl3['nmg'] = cl3['Num.Mutated.Genes']*cl3['Grade']"
   ]
  },
  {
   "cell_type": "code",
   "execution_count": 262,
   "metadata": {},
   "outputs": [],
   "source": [
    "cl3['smn'] = cl3['Age']/cl3['Survival.Months']"
   ]
  },
  {
   "cell_type": "code",
   "execution_count": 250,
   "metadata": {},
   "outputs": [],
   "source": [
    "X1_cols.append('nmg')"
   ]
  },
  {
   "cell_type": "code",
   "execution_count": 263,
   "metadata": {},
   "outputs": [],
   "source": [
    "X1_cols.append('smn')"
   ]
  },
  {
   "cell_type": "code",
   "execution_count": 293,
   "metadata": {},
   "outputs": [],
   "source": [
    "cl3['gn'] = cl3['Gene']*cl3['N']"
   ]
  },
  {
   "cell_type": "code",
   "execution_count": 294,
   "metadata": {},
   "outputs": [],
   "source": [
    "X1_cols.append('gn')"
   ]
  },
  {
   "cell_type": "code",
   "execution_count": 297,
   "metadata": {},
   "outputs": [
    {
     "data": {
      "text/plain": [
       "['Survival.Months',\n",
       " 'Age',\n",
       " 'Grade',\n",
       " 'Num.Primaries',\n",
       " 'T',\n",
       " 'N',\n",
       " 'Primary.Site',\n",
       " 'Histology',\n",
       " 'Tumor.Size',\n",
       " 'Gene',\n",
       " 'nmg',\n",
       " 'smn',\n",
       " 'gn']"
      ]
     },
     "execution_count": 297,
     "metadata": {},
     "output_type": "execute_result"
    }
   ],
   "source": [
    "X1_cols"
   ]
  },
  {
   "cell_type": "code",
   "execution_count": 298,
   "metadata": {},
   "outputs": [],
   "source": [
    "X1 = cl3[X1_cols]"
   ]
  },
  {
   "cell_type": "code",
   "execution_count": 291,
   "metadata": {},
   "outputs": [
    {
     "data": {
      "text/html": [
       "<div>\n",
       "<style scoped>\n",
       "    .dataframe tbody tr th:only-of-type {\n",
       "        vertical-align: middle;\n",
       "    }\n",
       "\n",
       "    .dataframe tbody tr th {\n",
       "        vertical-align: top;\n",
       "    }\n",
       "\n",
       "    .dataframe thead th {\n",
       "        text-align: right;\n",
       "    }\n",
       "</style>\n",
       "<table border=\"1\" class=\"dataframe\">\n",
       "  <thead>\n",
       "    <tr style=\"text-align: right;\">\n",
       "      <th></th>\n",
       "      <th>Outcome</th>\n",
       "      <th>Survival.Months</th>\n",
       "      <th>Age</th>\n",
       "      <th>Grade</th>\n",
       "      <th>Num.Primaries</th>\n",
       "      <th>T</th>\n",
       "      <th>N</th>\n",
       "      <th>M</th>\n",
       "      <th>Radiation</th>\n",
       "      <th>Stage</th>\n",
       "      <th>Primary.Site</th>\n",
       "      <th>Histology</th>\n",
       "      <th>Tumor.Size</th>\n",
       "      <th>Num.Mutated.Genes</th>\n",
       "      <th>Num.Mutations</th>\n",
       "      <th>Outcome1</th>\n",
       "      <th>Gene</th>\n",
       "    </tr>\n",
       "  </thead>\n",
       "  <tbody>\n",
       "    <tr>\n",
       "      <th>Outcome</th>\n",
       "      <td>1.000000</td>\n",
       "      <td>0.204990</td>\n",
       "      <td>0.159927</td>\n",
       "      <td>-0.143842</td>\n",
       "      <td>0.246388</td>\n",
       "      <td>0.201296</td>\n",
       "      <td>-0.266563</td>\n",
       "      <td>-0.122402</td>\n",
       "      <td>-0.123618</td>\n",
       "      <td>-0.037034</td>\n",
       "      <td>0.331706</td>\n",
       "      <td>0.187859</td>\n",
       "      <td>-0.289998</td>\n",
       "      <td>-0.032826</td>\n",
       "      <td>0.021857</td>\n",
       "      <td>1.000000</td>\n",
       "      <td>0.300583</td>\n",
       "    </tr>\n",
       "    <tr>\n",
       "      <th>Survival.Months</th>\n",
       "      <td>0.204990</td>\n",
       "      <td>1.000000</td>\n",
       "      <td>0.138614</td>\n",
       "      <td>-0.083157</td>\n",
       "      <td>0.021162</td>\n",
       "      <td>-0.252939</td>\n",
       "      <td>-0.085941</td>\n",
       "      <td>-0.178991</td>\n",
       "      <td>-0.152904</td>\n",
       "      <td>0.133539</td>\n",
       "      <td>-0.027258</td>\n",
       "      <td>-0.119939</td>\n",
       "      <td>-0.120064</td>\n",
       "      <td>-0.043810</td>\n",
       "      <td>-0.063460</td>\n",
       "      <td>0.204990</td>\n",
       "      <td>0.067017</td>\n",
       "    </tr>\n",
       "    <tr>\n",
       "      <th>Age</th>\n",
       "      <td>0.159927</td>\n",
       "      <td>0.138614</td>\n",
       "      <td>1.000000</td>\n",
       "      <td>-0.068442</td>\n",
       "      <td>-0.145165</td>\n",
       "      <td>-0.061494</td>\n",
       "      <td>-0.179635</td>\n",
       "      <td>0.089994</td>\n",
       "      <td>-0.154601</td>\n",
       "      <td>0.236934</td>\n",
       "      <td>-0.103319</td>\n",
       "      <td>0.031324</td>\n",
       "      <td>-0.003190</td>\n",
       "      <td>0.111735</td>\n",
       "      <td>0.102056</td>\n",
       "      <td>0.159927</td>\n",
       "      <td>-0.059296</td>\n",
       "    </tr>\n",
       "    <tr>\n",
       "      <th>Grade</th>\n",
       "      <td>-0.143842</td>\n",
       "      <td>-0.083157</td>\n",
       "      <td>-0.068442</td>\n",
       "      <td>1.000000</td>\n",
       "      <td>-0.025458</td>\n",
       "      <td>0.037061</td>\n",
       "      <td>0.008407</td>\n",
       "      <td>-0.054273</td>\n",
       "      <td>0.012099</td>\n",
       "      <td>0.063418</td>\n",
       "      <td>-0.092799</td>\n",
       "      <td>0.028642</td>\n",
       "      <td>0.085501</td>\n",
       "      <td>0.065438</td>\n",
       "      <td>0.073375</td>\n",
       "      <td>-0.143842</td>\n",
       "      <td>0.036969</td>\n",
       "    </tr>\n",
       "    <tr>\n",
       "      <th>Num.Primaries</th>\n",
       "      <td>0.246388</td>\n",
       "      <td>0.021162</td>\n",
       "      <td>-0.145165</td>\n",
       "      <td>-0.025458</td>\n",
       "      <td>1.000000</td>\n",
       "      <td>0.035220</td>\n",
       "      <td>-0.198327</td>\n",
       "      <td>-0.001918</td>\n",
       "      <td>0.083260</td>\n",
       "      <td>0.025038</td>\n",
       "      <td>0.192995</td>\n",
       "      <td>0.213922</td>\n",
       "      <td>-0.078865</td>\n",
       "      <td>-0.025409</td>\n",
       "      <td>0.005558</td>\n",
       "      <td>0.246388</td>\n",
       "      <td>0.114325</td>\n",
       "    </tr>\n",
       "    <tr>\n",
       "      <th>T</th>\n",
       "      <td>0.201296</td>\n",
       "      <td>-0.252939</td>\n",
       "      <td>-0.061494</td>\n",
       "      <td>0.037061</td>\n",
       "      <td>0.035220</td>\n",
       "      <td>1.000000</td>\n",
       "      <td>-0.067370</td>\n",
       "      <td>0.062975</td>\n",
       "      <td>0.039935</td>\n",
       "      <td>0.076345</td>\n",
       "      <td>0.094284</td>\n",
       "      <td>0.121168</td>\n",
       "      <td>-0.203453</td>\n",
       "      <td>0.163934</td>\n",
       "      <td>0.198103</td>\n",
       "      <td>0.201296</td>\n",
       "      <td>0.038826</td>\n",
       "    </tr>\n",
       "    <tr>\n",
       "      <th>N</th>\n",
       "      <td>-0.266563</td>\n",
       "      <td>-0.085941</td>\n",
       "      <td>-0.179635</td>\n",
       "      <td>0.008407</td>\n",
       "      <td>-0.198327</td>\n",
       "      <td>-0.067370</td>\n",
       "      <td>1.000000</td>\n",
       "      <td>0.020851</td>\n",
       "      <td>0.093167</td>\n",
       "      <td>-0.115007</td>\n",
       "      <td>-0.120870</td>\n",
       "      <td>0.087757</td>\n",
       "      <td>0.116950</td>\n",
       "      <td>0.139377</td>\n",
       "      <td>0.114896</td>\n",
       "      <td>-0.266563</td>\n",
       "      <td>-0.131284</td>\n",
       "    </tr>\n",
       "    <tr>\n",
       "      <th>M</th>\n",
       "      <td>-0.122402</td>\n",
       "      <td>-0.178991</td>\n",
       "      <td>0.089994</td>\n",
       "      <td>-0.054273</td>\n",
       "      <td>-0.001918</td>\n",
       "      <td>0.062975</td>\n",
       "      <td>0.020851</td>\n",
       "      <td>1.000000</td>\n",
       "      <td>0.006816</td>\n",
       "      <td>0.053092</td>\n",
       "      <td>-0.162878</td>\n",
       "      <td>-0.079836</td>\n",
       "      <td>0.011428</td>\n",
       "      <td>-0.006366</td>\n",
       "      <td>-0.057766</td>\n",
       "      <td>-0.122402</td>\n",
       "      <td>-0.094933</td>\n",
       "    </tr>\n",
       "    <tr>\n",
       "      <th>Radiation</th>\n",
       "      <td>-0.123618</td>\n",
       "      <td>-0.152904</td>\n",
       "      <td>-0.154601</td>\n",
       "      <td>0.012099</td>\n",
       "      <td>0.083260</td>\n",
       "      <td>0.039935</td>\n",
       "      <td>0.093167</td>\n",
       "      <td>0.006816</td>\n",
       "      <td>1.000000</td>\n",
       "      <td>-0.042827</td>\n",
       "      <td>0.075473</td>\n",
       "      <td>-0.072679</td>\n",
       "      <td>-0.034820</td>\n",
       "      <td>0.038601</td>\n",
       "      <td>-0.005114</td>\n",
       "      <td>-0.123618</td>\n",
       "      <td>-0.019787</td>\n",
       "    </tr>\n",
       "    <tr>\n",
       "      <th>Stage</th>\n",
       "      <td>-0.037034</td>\n",
       "      <td>0.133539</td>\n",
       "      <td>0.236934</td>\n",
       "      <td>0.063418</td>\n",
       "      <td>0.025038</td>\n",
       "      <td>0.076345</td>\n",
       "      <td>-0.115007</td>\n",
       "      <td>0.053092</td>\n",
       "      <td>-0.042827</td>\n",
       "      <td>1.000000</td>\n",
       "      <td>0.007614</td>\n",
       "      <td>0.111935</td>\n",
       "      <td>-0.021814</td>\n",
       "      <td>0.138018</td>\n",
       "      <td>0.157983</td>\n",
       "      <td>-0.037034</td>\n",
       "      <td>0.081854</td>\n",
       "    </tr>\n",
       "    <tr>\n",
       "      <th>Primary.Site</th>\n",
       "      <td>0.331706</td>\n",
       "      <td>-0.027258</td>\n",
       "      <td>-0.103319</td>\n",
       "      <td>-0.092799</td>\n",
       "      <td>0.192995</td>\n",
       "      <td>0.094284</td>\n",
       "      <td>-0.120870</td>\n",
       "      <td>-0.162878</td>\n",
       "      <td>0.075473</td>\n",
       "      <td>0.007614</td>\n",
       "      <td>1.000000</td>\n",
       "      <td>0.010186</td>\n",
       "      <td>-0.077182</td>\n",
       "      <td>0.127071</td>\n",
       "      <td>0.173280</td>\n",
       "      <td>0.331706</td>\n",
       "      <td>0.264463</td>\n",
       "    </tr>\n",
       "    <tr>\n",
       "      <th>Histology</th>\n",
       "      <td>0.187859</td>\n",
       "      <td>-0.119939</td>\n",
       "      <td>0.031324</td>\n",
       "      <td>0.028642</td>\n",
       "      <td>0.213922</td>\n",
       "      <td>0.121168</td>\n",
       "      <td>0.087757</td>\n",
       "      <td>-0.079836</td>\n",
       "      <td>-0.072679</td>\n",
       "      <td>0.111935</td>\n",
       "      <td>0.010186</td>\n",
       "      <td>1.000000</td>\n",
       "      <td>0.042191</td>\n",
       "      <td>0.110541</td>\n",
       "      <td>0.111835</td>\n",
       "      <td>0.187859</td>\n",
       "      <td>0.097984</td>\n",
       "    </tr>\n",
       "    <tr>\n",
       "      <th>Tumor.Size</th>\n",
       "      <td>-0.289998</td>\n",
       "      <td>-0.120064</td>\n",
       "      <td>-0.003190</td>\n",
       "      <td>0.085501</td>\n",
       "      <td>-0.078865</td>\n",
       "      <td>-0.203453</td>\n",
       "      <td>0.116950</td>\n",
       "      <td>0.011428</td>\n",
       "      <td>-0.034820</td>\n",
       "      <td>-0.021814</td>\n",
       "      <td>-0.077182</td>\n",
       "      <td>0.042191</td>\n",
       "      <td>1.000000</td>\n",
       "      <td>0.148891</td>\n",
       "      <td>0.115495</td>\n",
       "      <td>-0.289998</td>\n",
       "      <td>-0.059248</td>\n",
       "    </tr>\n",
       "    <tr>\n",
       "      <th>Num.Mutated.Genes</th>\n",
       "      <td>-0.032826</td>\n",
       "      <td>-0.043810</td>\n",
       "      <td>0.111735</td>\n",
       "      <td>0.065438</td>\n",
       "      <td>-0.025409</td>\n",
       "      <td>0.163934</td>\n",
       "      <td>0.139377</td>\n",
       "      <td>-0.006366</td>\n",
       "      <td>0.038601</td>\n",
       "      <td>0.138018</td>\n",
       "      <td>0.127071</td>\n",
       "      <td>0.110541</td>\n",
       "      <td>0.148891</td>\n",
       "      <td>1.000000</td>\n",
       "      <td>0.922197</td>\n",
       "      <td>-0.032826</td>\n",
       "      <td>0.090823</td>\n",
       "    </tr>\n",
       "    <tr>\n",
       "      <th>Num.Mutations</th>\n",
       "      <td>0.021857</td>\n",
       "      <td>-0.063460</td>\n",
       "      <td>0.102056</td>\n",
       "      <td>0.073375</td>\n",
       "      <td>0.005558</td>\n",
       "      <td>0.198103</td>\n",
       "      <td>0.114896</td>\n",
       "      <td>-0.057766</td>\n",
       "      <td>-0.005114</td>\n",
       "      <td>0.157983</td>\n",
       "      <td>0.173280</td>\n",
       "      <td>0.111835</td>\n",
       "      <td>0.115495</td>\n",
       "      <td>0.922197</td>\n",
       "      <td>1.000000</td>\n",
       "      <td>0.021857</td>\n",
       "      <td>0.097931</td>\n",
       "    </tr>\n",
       "    <tr>\n",
       "      <th>Outcome1</th>\n",
       "      <td>1.000000</td>\n",
       "      <td>0.204990</td>\n",
       "      <td>0.159927</td>\n",
       "      <td>-0.143842</td>\n",
       "      <td>0.246388</td>\n",
       "      <td>0.201296</td>\n",
       "      <td>-0.266563</td>\n",
       "      <td>-0.122402</td>\n",
       "      <td>-0.123618</td>\n",
       "      <td>-0.037034</td>\n",
       "      <td>0.331706</td>\n",
       "      <td>0.187859</td>\n",
       "      <td>-0.289998</td>\n",
       "      <td>-0.032826</td>\n",
       "      <td>0.021857</td>\n",
       "      <td>1.000000</td>\n",
       "      <td>0.300583</td>\n",
       "    </tr>\n",
       "    <tr>\n",
       "      <th>Gene</th>\n",
       "      <td>0.300583</td>\n",
       "      <td>0.067017</td>\n",
       "      <td>-0.059296</td>\n",
       "      <td>0.036969</td>\n",
       "      <td>0.114325</td>\n",
       "      <td>0.038826</td>\n",
       "      <td>-0.131284</td>\n",
       "      <td>-0.094933</td>\n",
       "      <td>-0.019787</td>\n",
       "      <td>0.081854</td>\n",
       "      <td>0.264463</td>\n",
       "      <td>0.097984</td>\n",
       "      <td>-0.059248</td>\n",
       "      <td>0.090823</td>\n",
       "      <td>0.097931</td>\n",
       "      <td>0.300583</td>\n",
       "      <td>1.000000</td>\n",
       "    </tr>\n",
       "  </tbody>\n",
       "</table>\n",
       "</div>"
      ],
      "text/plain": [
       "                    Outcome  Survival.Months       Age     Grade  \\\n",
       "Outcome            1.000000         0.204990  0.159927 -0.143842   \n",
       "Survival.Months    0.204990         1.000000  0.138614 -0.083157   \n",
       "Age                0.159927         0.138614  1.000000 -0.068442   \n",
       "Grade             -0.143842        -0.083157 -0.068442  1.000000   \n",
       "Num.Primaries      0.246388         0.021162 -0.145165 -0.025458   \n",
       "T                  0.201296        -0.252939 -0.061494  0.037061   \n",
       "N                 -0.266563        -0.085941 -0.179635  0.008407   \n",
       "M                 -0.122402        -0.178991  0.089994 -0.054273   \n",
       "Radiation         -0.123618        -0.152904 -0.154601  0.012099   \n",
       "Stage             -0.037034         0.133539  0.236934  0.063418   \n",
       "Primary.Site       0.331706        -0.027258 -0.103319 -0.092799   \n",
       "Histology          0.187859        -0.119939  0.031324  0.028642   \n",
       "Tumor.Size        -0.289998        -0.120064 -0.003190  0.085501   \n",
       "Num.Mutated.Genes -0.032826        -0.043810  0.111735  0.065438   \n",
       "Num.Mutations      0.021857        -0.063460  0.102056  0.073375   \n",
       "Outcome1           1.000000         0.204990  0.159927 -0.143842   \n",
       "Gene               0.300583         0.067017 -0.059296  0.036969   \n",
       "\n",
       "                   Num.Primaries         T         N         M  Radiation  \\\n",
       "Outcome                 0.246388  0.201296 -0.266563 -0.122402  -0.123618   \n",
       "Survival.Months         0.021162 -0.252939 -0.085941 -0.178991  -0.152904   \n",
       "Age                    -0.145165 -0.061494 -0.179635  0.089994  -0.154601   \n",
       "Grade                  -0.025458  0.037061  0.008407 -0.054273   0.012099   \n",
       "Num.Primaries           1.000000  0.035220 -0.198327 -0.001918   0.083260   \n",
       "T                       0.035220  1.000000 -0.067370  0.062975   0.039935   \n",
       "N                      -0.198327 -0.067370  1.000000  0.020851   0.093167   \n",
       "M                      -0.001918  0.062975  0.020851  1.000000   0.006816   \n",
       "Radiation               0.083260  0.039935  0.093167  0.006816   1.000000   \n",
       "Stage                   0.025038  0.076345 -0.115007  0.053092  -0.042827   \n",
       "Primary.Site            0.192995  0.094284 -0.120870 -0.162878   0.075473   \n",
       "Histology               0.213922  0.121168  0.087757 -0.079836  -0.072679   \n",
       "Tumor.Size             -0.078865 -0.203453  0.116950  0.011428  -0.034820   \n",
       "Num.Mutated.Genes      -0.025409  0.163934  0.139377 -0.006366   0.038601   \n",
       "Num.Mutations           0.005558  0.198103  0.114896 -0.057766  -0.005114   \n",
       "Outcome1                0.246388  0.201296 -0.266563 -0.122402  -0.123618   \n",
       "Gene                    0.114325  0.038826 -0.131284 -0.094933  -0.019787   \n",
       "\n",
       "                      Stage  Primary.Site  Histology  Tumor.Size  \\\n",
       "Outcome           -0.037034      0.331706   0.187859   -0.289998   \n",
       "Survival.Months    0.133539     -0.027258  -0.119939   -0.120064   \n",
       "Age                0.236934     -0.103319   0.031324   -0.003190   \n",
       "Grade              0.063418     -0.092799   0.028642    0.085501   \n",
       "Num.Primaries      0.025038      0.192995   0.213922   -0.078865   \n",
       "T                  0.076345      0.094284   0.121168   -0.203453   \n",
       "N                 -0.115007     -0.120870   0.087757    0.116950   \n",
       "M                  0.053092     -0.162878  -0.079836    0.011428   \n",
       "Radiation         -0.042827      0.075473  -0.072679   -0.034820   \n",
       "Stage              1.000000      0.007614   0.111935   -0.021814   \n",
       "Primary.Site       0.007614      1.000000   0.010186   -0.077182   \n",
       "Histology          0.111935      0.010186   1.000000    0.042191   \n",
       "Tumor.Size        -0.021814     -0.077182   0.042191    1.000000   \n",
       "Num.Mutated.Genes  0.138018      0.127071   0.110541    0.148891   \n",
       "Num.Mutations      0.157983      0.173280   0.111835    0.115495   \n",
       "Outcome1          -0.037034      0.331706   0.187859   -0.289998   \n",
       "Gene               0.081854      0.264463   0.097984   -0.059248   \n",
       "\n",
       "                   Num.Mutated.Genes  Num.Mutations  Outcome1      Gene  \n",
       "Outcome                    -0.032826       0.021857  1.000000  0.300583  \n",
       "Survival.Months            -0.043810      -0.063460  0.204990  0.067017  \n",
       "Age                         0.111735       0.102056  0.159927 -0.059296  \n",
       "Grade                       0.065438       0.073375 -0.143842  0.036969  \n",
       "Num.Primaries              -0.025409       0.005558  0.246388  0.114325  \n",
       "T                           0.163934       0.198103  0.201296  0.038826  \n",
       "N                           0.139377       0.114896 -0.266563 -0.131284  \n",
       "M                          -0.006366      -0.057766 -0.122402 -0.094933  \n",
       "Radiation                   0.038601      -0.005114 -0.123618 -0.019787  \n",
       "Stage                       0.138018       0.157983 -0.037034  0.081854  \n",
       "Primary.Site                0.127071       0.173280  0.331706  0.264463  \n",
       "Histology                   0.110541       0.111835  0.187859  0.097984  \n",
       "Tumor.Size                  0.148891       0.115495 -0.289998 -0.059248  \n",
       "Num.Mutated.Genes           1.000000       0.922197 -0.032826  0.090823  \n",
       "Num.Mutations               0.922197       1.000000  0.021857  0.097931  \n",
       "Outcome1                   -0.032826       0.021857  1.000000  0.300583  \n",
       "Gene                        0.090823       0.097931  0.300583  1.000000  "
      ]
     },
     "execution_count": 291,
     "metadata": {},
     "output_type": "execute_result"
    }
   ],
   "source": [
    "cl2.corr()"
   ]
  },
  {
   "cell_type": "code",
   "execution_count": 299,
   "metadata": {},
   "outputs": [],
   "source": [
    "x_train, x_test, y_train, y_test = train_test_split(X1, y, \n",
    "                                                    test_size = 0.25,\n",
    "                                                   random_state=35)"
   ]
  },
  {
   "cell_type": "code",
   "execution_count": 300,
   "metadata": {},
   "outputs": [],
   "source": [
    "rfc = RandomForestClassifier(random_state = 23)\n",
    "rfc_cv = GridSearchCV(rfc, params)"
   ]
  },
  {
   "cell_type": "code",
   "execution_count": 301,
   "metadata": {},
   "outputs": [
    {
     "data": {
      "text/plain": [
       "1.0"
      ]
     },
     "execution_count": 301,
     "metadata": {},
     "output_type": "execute_result"
    }
   ],
   "source": [
    "rfc_cv.fit(x_train, y_train)\n",
    "rfc_cv.score(x_train, y_train)"
   ]
  },
  {
   "cell_type": "code",
   "execution_count": 302,
   "metadata": {},
   "outputs": [
    {
     "data": {
      "text/plain": [
       "0.9659090909090909"
      ]
     },
     "execution_count": 302,
     "metadata": {},
     "output_type": "execute_result"
    }
   ],
   "source": [
    "rfc_cv.score(x_test, y_test)"
   ]
  },
  {
   "cell_type": "code",
   "execution_count": 303,
   "metadata": {},
   "outputs": [],
   "source": [
    "y_pred = rfc_cv.predict(x_test)"
   ]
  },
  {
   "cell_type": "code",
   "execution_count": 304,
   "metadata": {},
   "outputs": [
    {
     "data": {
      "text/plain": [
       "(0.9583333333333334, 0.96875, 0.9841269841269841, 0.96875, 0.9763779527559054)"
      ]
     },
     "execution_count": 304,
     "metadata": {},
     "output_type": "execute_result"
    }
   ],
   "source": [
    "tpr, tnr, precision, recall, f1_score = tpr_tnr(y_test, y_pred)\n",
    "tpr, tnr, precision, recall, f1_score"
   ]
  },
  {
   "cell_type": "code",
   "execution_count": null,
   "metadata": {},
   "outputs": [],
   "source": []
  }
 ],
 "metadata": {
  "kernelspec": {
   "display_name": "Python 3",
   "language": "python",
   "name": "python3"
  },
  "language_info": {
   "codemirror_mode": {
    "name": "ipython",
    "version": 3
   },
   "file_extension": ".py",
   "mimetype": "text/x-python",
   "name": "python",
   "nbconvert_exporter": "python",
   "pygments_lexer": "ipython3",
   "version": "3.8.5"
  }
 },
 "nbformat": 4,
 "nbformat_minor": 4
}
